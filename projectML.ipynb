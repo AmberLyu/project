{
 "cells": [
  {
   "cell_type": "code",
   "execution_count": 1,
   "metadata": {},
   "outputs": [],
   "source": [
    "import jieba\n",
    "import jieba.analyse\n",
    "import requests\n",
    "import pymysql\n",
    "import csv\n",
    "import pandas as pd\n",
    "import numpy as np\n",
    "\n",
    "\n",
    "# Open database connection\n",
    "conn = pymysql.connect(host='192.168.35.168'\n",
    "                       ,port=3306\n",
    "                       ,user='amber'\n",
    "                       ,passwd='amber'\n",
    "                       ,db='news')\n",
    "# prepare a cursor object using cursor() method\n",
    "cursor = conn.cursor()\n",
    "sql = \"SELECT * FROM news_test_per2000\"\n",
    "output_csv_file = 'C:/Users/Student/Desktop/news/text.csv'\n",
    "userdict_txt = \"C:/Users/Student/Desktop/news/userdict0602.txt\"\n",
    "cursor.execute(sql)\n",
    "results = cursor.fetchall"
   ]
  },
  {
   "cell_type": "code",
   "execution_count": null,
   "metadata": {},
   "outputs": [],
   "source": [
    "print(results)"
   ]
  },
  {
   "cell_type": "code",
   "execution_count": null,
   "metadata": {},
   "outputs": [],
   "source": [
    "np.array(results)"
   ]
  },
  {
   "cell_type": "code",
   "execution_count": 2,
   "metadata": {
    "scrolled": false
   },
   "outputs": [],
   "source": [
    "df = pd.read_sql(sql, con=conn)"
   ]
  },
  {
   "cell_type": "code",
   "execution_count": null,
   "metadata": {},
   "outputs": [],
   "source": [
    "df"
   ]
  },
  {
   "cell_type": "code",
   "execution_count": 3,
   "metadata": {},
   "outputs": [
    {
     "data": {
      "text/plain": [
       "運動    2000\n",
       "經濟    2000\n",
       "政治    2000\n",
       "生活    2000\n",
       "國際    2000\n",
       "娛樂    2000\n",
       "社會    2000\n",
       "Name: type_final, dtype: int64"
      ]
     },
     "execution_count": 3,
     "metadata": {},
     "output_type": "execute_result"
    }
   ],
   "source": [
    "df['type_final'].value_counts()"
   ]
  },
  {
   "cell_type": "code",
   "execution_count": 4,
   "metadata": {},
   "outputs": [],
   "source": [
    "catagories = df.groupby('type_final').size().index.tolist()\n",
    "catagory_dict = {}\n",
    "int_catagory = {}\n",
    "for i, k in enumerate(catagories):\n",
    "    catagory_dict.update({k:i})\n",
    "    int_catagory.update({i:k})"
   ]
  },
  {
   "cell_type": "code",
   "execution_count": 5,
   "metadata": {},
   "outputs": [],
   "source": [
    "df['c2id'] = df['type_final'].apply(lambda x: catagory_dict[x])"
   ]
  },
  {
   "cell_type": "code",
   "execution_count": null,
   "metadata": {
    "scrolled": true
   },
   "outputs": [],
   "source": [
    "# df['tags_final']= df['tags_final'].str.split(\"、\") \n",
    "# print(df['tags_final'])"
   ]
  },
  {
   "cell_type": "code",
   "execution_count": 6,
   "metadata": {
    "scrolled": true
   },
   "outputs": [],
   "source": [
    "data1=df[[\"tags_final\",\"c2id\"]]"
   ]
  },
  {
   "cell_type": "code",
   "execution_count": 8,
   "metadata": {},
   "outputs": [],
   "source": [
    "tags= df['tags_final'].str.replace(\"、\",\" \")\n",
    "train_data=[]\n",
    "for i in tags:\n",
    "    train_data.append(i)\n",
    "# print(train_data)    \n",
    "\n"
   ]
  },
  {
   "cell_type": "code",
   "execution_count": 9,
   "metadata": {},
   "outputs": [],
   "source": [
    "train_target=[]\n",
    "for i in df['c2id']:\n",
    "    train_target.append(i)\n",
    "# print(train_target)     "
   ]
  },
  {
   "cell_type": "code",
   "execution_count": 10,
   "metadata": {
    "scrolled": true
   },
   "outputs": [],
   "source": [
    "from sklearn.model_selection import train_test_split\n",
    "x_train,x_test,y_train, y_test= train_test_split(train_data,train_target,test_size=0.2, shuffle=True)\n",
    "# print(x_train)\n",
    "# print(\"-----\"*100)\n",
    "# print(y_train)\n",
    "# print(x_test)\n",
    "# print(y_test)"
   ]
  },
  {
   "cell_type": "code",
   "execution_count": null,
   "metadata": {},
   "outputs": [],
   "source": [
    "type(y_test)"
   ]
  },
  {
   "cell_type": "code",
   "execution_count": null,
   "metadata": {},
   "outputs": [],
   "source": [
    "# train_data1=[]\n",
    "# for i in range(len(train_data)):\n",
    "#     for j in range(len(train_data[i])):\n",
    "#         train_data1.append(train_data[i][j])\n",
    "        "
   ]
  },
  {
   "cell_type": "code",
   "execution_count": 11,
   "metadata": {},
   "outputs": [
    {
     "name": "stdout",
     "output_type": "stream",
     "text": [
      "the shape of train is (11200, 81066)\n",
      "the shape of test is (2800, 81066)\n"
     ]
    }
   ],
   "source": [
    "from sklearn.feature_extraction.text import CountVectorizer, TfidfTransformer   \n",
    "vectorizer= CountVectorizer();  \n",
    "counts_all = vectorizer.fit_transform(train_data);\n",
    "count_v1= CountVectorizer(vocabulary=vectorizer.vocabulary_);  \n",
    "counts_train = count_v1.fit_transform(x_train);   \n",
    "print (\"the shape of train is \"+repr(counts_train.shape))  \n",
    "count_v2 = CountVectorizer(vocabulary=vectorizer.vocabulary_);  \n",
    "counts_test = count_v2.fit_transform(x_test);  \n",
    "print (\"the shape of test is \"+repr(counts_test.shape))  \n",
    "  \n",
    "tfidftransformer = TfidfTransformer();    \n",
    "x_train = tfidftransformer.fit(counts_train).transform(counts_train);\n",
    "x_test = tfidftransformer.fit(counts_test).transform(counts_test);"
   ]
  },
  {
   "cell_type": "code",
   "execution_count": null,
   "metadata": {
    "scrolled": true
   },
   "outputs": [],
   "source": [
    "# print(vectorizer.get_feature_names())  \n",
    "# print(vectorizer.vocabulary_)\n",
    "# print(counts_all.toarray())"
   ]
  },
  {
   "cell_type": "markdown",
   "metadata": {},
   "source": [
    "### navie bays"
   ]
  },
  {
   "cell_type": "code",
   "execution_count": 16,
   "metadata": {},
   "outputs": [
    {
     "name": "stdout",
     "output_type": "stream",
     "text": [
      "precision_score:0.8110714285714286\n",
      "0.8110714285714286\n",
      "              precision    recall  f1-score   support\n",
      "\n",
      "           0       0.80      0.68      0.74       375\n",
      "           1       0.86      0.89      0.87       419\n",
      "           2       0.84      0.85      0.85       398\n",
      "           3       0.64      0.66      0.65       389\n",
      "           4       0.74      0.85      0.79       408\n",
      "           5       0.85      0.77      0.81       401\n",
      "           6       0.96      0.96      0.96       410\n",
      "\n",
      "   micro avg       0.81      0.81      0.81      2800\n",
      "   macro avg       0.81      0.81      0.81      2800\n",
      "weighted avg       0.81      0.81      0.81      2800\n",
      "\n"
     ]
    }
   ],
   "source": [
    "from sklearn.naive_bayes import MultinomialNB  \n",
    "from sklearn.metrics import accuracy_score\n",
    "from sklearn.metrics import confusion_matrix\n",
    "from sklearn.metrics import classification_report\n",
    "\n",
    "\n",
    "clf = MultinomialNB(alpha = 0.01)   \n",
    "clf.fit(x_train, y_train);  \n",
    "y_pred = clf.predict(x_test);\n",
    "num = 0\n",
    "preds = y_pred.tolist()\n",
    "# print(preds)\n",
    "for i,pred in enumerate(preds):\n",
    "    if int(pred) == int(y_test[i]):\n",
    "        num += 1\n",
    "    else :\n",
    "        continue\n",
    "print('precision_score:' + str(float(num) / len(preds)))\n",
    "print(accuracy_score(y_test, y_pred))\n",
    "\n",
    "print(classification_report(y_test, y_pred))"
   ]
  },
  {
   "cell_type": "code",
   "execution_count": 17,
   "metadata": {},
   "outputs": [
    {
     "data": {
      "text/plain": [
       "array([[255,  16,  14,  32,  38,  12,   8],\n",
       "       [  9, 371,   7,  18,  11,   1,   2],\n",
       "       [ 15,   2, 340,  17,  17,   5,   2],\n",
       "       [ 13,  23,  15, 258,  45,  32,   3],\n",
       "       [  7,   5,  15,  28, 346,   6,   1],\n",
       "       [ 16,   3,  15,  47,  12, 308,   0],\n",
       "       [  3,  11,   0,   2,   1,   0, 393]], dtype=int64)"
      ]
     },
     "execution_count": 17,
     "metadata": {},
     "output_type": "execute_result"
    }
   ],
   "source": [
    "mat=confusion_matrix(y_test, y_pred)\n",
    "mat"
   ]
  },
  {
   "cell_type": "code",
   "execution_count": 20,
   "metadata": {},
   "outputs": [],
   "source": [
    "import matplotlib.pyplot as plt\n",
    "%matplotlib inline\n",
    "import seaborn as sns\n",
    "sns.set()"
   ]
  },
  {
   "cell_type": "code",
   "execution_count": 30,
   "metadata": {},
   "outputs": [
    {
     "data": {
      "text/plain": [
       "<matplotlib.axes._subplots.AxesSubplot at 0x1f490192940>"
      ]
     },
     "execution_count": 30,
     "metadata": {},
     "output_type": "execute_result"
    },
    {
     "data": {
      "image/png": "[encoded data removed]",
      "text/plain": [
       "<Figure size 504x504 with 2 Axes>"
      ]
     },
     "metadata": {
      "needs_background": "light"
     },
     "output_type": "display_data"
    }
   ],
   "source": [
    "df_cm = pd.DataFrame(mat, index = [i for i in clf.classes_],\n",
    "                  columns = [i for i in clf.classes_])\n",
    "plt.figure(figsize = (7,7))\n",
    "sns.heatmap(mat, annot=True,fmt=\"d\") #cmap=\"YlGnBu\",linewidths=.5"
   ]
  },
  {
   "cell_type": "markdown",
   "metadata": {},
   "source": [
    "### knn \n",
    "n_neighbors=x 鄰近點個數\n",
    "weights=\"uniform一致權重，distance 距離倒數\""
   ]
  },
  {
   "cell_type": "code",
   "execution_count": 13,
   "metadata": {},
   "outputs": [
    {
     "name": "stdout",
     "output_type": "stream",
     "text": [
      "K= 1, precision_score:0.7203571428571428\n",
      "K= 2, precision_score:0.7057142857142857\n",
      "K= 3, precision_score:0.7539285714285714\n",
      "K= 4, precision_score:0.7657142857142857\n",
      "K= 5, precision_score:0.7771428571428571\n",
      "K= 6, precision_score:0.7792857142857142\n",
      "K= 7, precision_score:0.7914285714285715\n",
      "K= 8, precision_score:0.795\n",
      "K= 9, precision_score:0.7971428571428572\n"
     ]
    }
   ],
   "source": [
    "from sklearn.neighbors import KNeighborsClassifier  \n",
    "\n",
    "for x in range(1,10): \n",
    "    knnclf = KNeighborsClassifier(n_neighbors=x,weights=\"uniform\")\n",
    "    knnclf.fit(x_train,y_train)  \n",
    "    preds = knnclf.predict(x_test);\n",
    "    num = 0\n",
    "    preds = preds.tolist()\n",
    "    for i,pred in enumerate(preds):\n",
    "        if int(pred) == int(y_test[i]):\n",
    "            num += 1\n",
    "    print ('K= '+str(x)+', precision_score:' + str(float(num) / len(preds)))\n",
    "    "
   ]
  },
  {
   "cell_type": "code",
   "execution_count": 14,
   "metadata": {},
   "outputs": [
    {
     "name": "stdout",
     "output_type": "stream",
     "text": [
      "K= 1, precision_score:0.7203571428571428\n",
      "K= 2, precision_score:0.7203571428571428\n",
      "K= 3, precision_score:0.7625\n",
      "K= 4, precision_score:0.7692857142857142\n",
      "K= 5, precision_score:0.7803571428571429\n",
      "K= 6, precision_score:0.7878571428571428\n",
      "K= 7, precision_score:0.7928571428571428\n",
      "K= 8, precision_score:0.7957142857142857\n",
      "K= 9, precision_score:0.7996428571428571\n"
     ]
    }
   ],
   "source": [
    "from sklearn.neighbors import KNeighborsClassifier  \n",
    "\n",
    "for x in range(1,10): \n",
    "    knnclf = KNeighborsClassifier(n_neighbors=x,weights=\"distance\")\n",
    "    knnclf.fit(x_train,y_train)  \n",
    "    preds = knnclf.predict(x_test);\n",
    "    num = 0\n",
    "    preds = preds.tolist()\n",
    "    for i,pred in enumerate(preds):\n",
    "        if int(pred) == int(y_test[i]):\n",
    "            num += 1\n",
    "    print ('K= '+str(x)+', precision_score:' + str(float(num) / len(preds)))"
   ]
  },
  {
   "cell_type": "markdown",
   "metadata": {},
   "source": [
    "### SVM\n",
    "sklearn.svm.SVC(C=1.0, kernel='rbf', degree=3, gamma='auto', coef0=0.0, shrinking=True, probability=False,\n",
    "\n",
    "tol=0.001, cache_size=200, class_weight=None, verbose=False, max_iter=-1, decision_function_shape=None,random_state=None)\n",
    "\n",
    "c 懲罰項 kernel ：核函数，默认是rbf，可以是‘linear’, ‘poly’, ‘rbf’, ‘sigmoid’, ‘precomputed’"
   ]
  },
  {
   "cell_type": "code",
   "execution_count": 42,
   "metadata": {
    "scrolled": true
   },
   "outputs": [
    {
     "name": "stdout",
     "output_type": "stream",
     "text": [
      "precision_score:0.825\n",
      "0.825\n",
      "              precision    recall  f1-score   support\n",
      "\n",
      "           0       0.79      0.76      0.77       375\n",
      "           1       0.91      0.87      0.89       419\n",
      "           2       0.88      0.84      0.86       398\n",
      "           3       0.60      0.80      0.69       389\n",
      "           4       0.82      0.79      0.81       408\n",
      "           5       0.88      0.75      0.81       401\n",
      "           6       0.97      0.94      0.96       410\n",
      "\n",
      "   micro avg       0.82      0.82      0.82      2800\n",
      "   macro avg       0.84      0.82      0.83      2800\n",
      "weighted avg       0.84      0.82      0.83      2800\n",
      "\n"
     ]
    }
   ],
   "source": [
    "from sklearn.svm import SVC  \n",
    "from sklearn.metrics import confusion_matrix\n",
    "from sklearn.metrics import classification_report\n",
    "svclf = SVC(kernel = 'linear',C=1) \n",
    "svclf.fit(x_train,y_train)  \n",
    "y_pred = svclf.predict(x_test);  \n",
    "num = 0\n",
    "preds = y_pred.tolist()\n",
    "for i,pred in enumerate(preds):\n",
    "    if int(pred) == int(y_test[i]):\n",
    "        num += 1\n",
    "print('precision_score:' + str(float(num) / len(preds)))\n",
    "print(accuracy_score(y_test, y_pred))\n",
    "\n",
    "print(classification_report(y_test, y_pred))"
   ]
  },
  {
   "cell_type": "code",
   "execution_count": 34,
   "metadata": {},
   "outputs": [
    {
     "data": {
      "text/plain": [
       "array([[285,  11,  11,  31,  19,  12,   6],\n",
       "       [ 11, 366,   7,  24,   8,   1,   2],\n",
       "       [ 17,   1, 333,  26,  14,   5,   2],\n",
       "       [ 11,  12,   5, 313,  23,  23,   2],\n",
       "       [  9,   4,  14,  55, 324,   1,   1],\n",
       "       [ 26,   2,   9,  57,   5, 302,   0],\n",
       "       [  4,   6,   0,  13,   0,   0, 387]], dtype=int64)"
      ]
     },
     "execution_count": 34,
     "metadata": {},
     "output_type": "execute_result"
    }
   ],
   "source": [
    "mat = confusion_matrix(y_test, y_pred)\n",
    "mat"
   ]
  },
  {
   "cell_type": "code",
   "execution_count": 35,
   "metadata": {},
   "outputs": [
    {
     "data": {
      "text/plain": [
       "<matplotlib.axes._subplots.AxesSubplot at 0x1f49032df28>"
      ]
     },
     "execution_count": 35,
     "metadata": {},
     "output_type": "execute_result"
    },
    {
     "data": {
      "image/png": "[encoded data removed]",
      "text/plain": [
       "<Figure size 504x504 with 2 Axes>"
      ]
     },
     "metadata": {
      "needs_background": "light"
     },
     "output_type": "display_data"
    }
   ],
   "source": [
    "df_cm = pd.DataFrame(mat, index = [i for i in clf.classes_],\n",
    "                  columns = [i for i in clf.classes_])\n",
    "plt.figure(figsize = (7,7))\n",
    "sns.heatmap(mat, annot=True,fmt=\"d\") #cmap=\"YlGnBu\",linewidths=.5"
   ]
  },
  {
   "cell_type": "code",
   "execution_count": null,
   "metadata": {},
   "outputs": [],
   "source": [
    "#TEST\n",
    "# corpus = [\n",
    "#       \"民政局長 中國醫藥大學附設醫院 胡志強 住進 加護病房 感冒症狀 住院\",\n",
    "#       \"解決問題 台東 總統蔡英文 台灣 綠島 人一時 不滿意度 台東縣 民調\", \n",
    "#       \"韓國瑜 民進黨 電視政見 沐猴而冠 尊敬 段宜康 帽子 黨主席選舉\",\n",
    "#       \"幾歲 測謊 救火隊 幕僚 上節目 何瑞英 市議員 落淚 市長 選舉\" \n",
    "       \n",
    "#  ]\n",
    "# vectorizer = CountVectorizer()\n",
    "# X = vectorizer.fit_transform(corpus)\n",
    "# print(vectorizer.get_feature_names())\n",
    "# print(X.toarray()) \n"
   ]
  },
  {
   "cell_type": "code",
   "execution_count": null,
   "metadata": {},
   "outputs": [],
   "source": []
  }
 ],
 "metadata": {
  "kernelspec": {
   "display_name": "Python 3",
   "language": "python",
   "name": "python3"
  },
  "language_info": {
   "codemirror_mode": {
    "name": "ipython",
    "version": 3
   },
   "file_extension": ".py",
   "mimetype": "text/x-python",
   "name": "python",
   "nbconvert_exporter": "python",
   "pygments_lexer": "ipython3",
   "version": "3.7.3"
  }
 },
 "nbformat": 4,
 "nbformat_minor": 2
}
